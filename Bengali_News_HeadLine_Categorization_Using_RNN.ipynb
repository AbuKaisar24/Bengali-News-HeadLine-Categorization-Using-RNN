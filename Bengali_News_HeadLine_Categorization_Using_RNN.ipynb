{
  "nbformat": 4,
  "nbformat_minor": 0,
  "metadata": {
    "colab": {
      "name": "Bengali News HeadLine Categorization Using RNN.ipynb",
      "provenance": [],
      "collapsed_sections": [],
      "include_colab_link": true
    },
    "kernelspec": {
      "name": "python3",
      "display_name": "Python 3"
    },
    "accelerator": "GPU"
  },
  "cells": [
    {
      "cell_type": "markdown",
      "metadata": {
        "id": "view-in-github",
        "colab_type": "text"
      },
      "source": [
        "<a href=\"https://colab.research.google.com/github/AbuKaisar24/Bengali-News-HeadLine-Categorization-Using-RNN/blob/master/Bengali_News_HeadLine_Categorization_Using_RNN.ipynb\" target=\"_parent\"><img src=\"https://colab.research.google.com/assets/colab-badge.svg\" alt=\"Open In Colab\"/></a>"
      ]
    },
    {
      "cell_type": "code",
      "metadata": {
        "id": "OHkpv63ucnyE",
        "colab_type": "code",
        "outputId": "8422b3a5-e66d-4b12-ae9b-27423a6b4a59",
        "colab": {
          "base_uri": "https://localhost:8080/",
          "height": 120
        }
      },
      "source": [
        "from google.colab import drive\n",
        "drive.mount('/content/gdrive')"
      ],
      "execution_count": 0,
      "outputs": [
        {
          "output_type": "stream",
          "text": [
            "Go to this URL in a browser: https://accounts.google.com/o/oauth2/auth?client_id=947318989803-6bn6qk8qdgf4n4g3pfee6491hc0brc4i.apps.googleusercontent.com&redirect_uri=urn%3aietf%3awg%3aoauth%3a2.0%3aoob&response_type=code&scope=email%20https%3a%2f%2fwww.googleapis.com%2fauth%2fdocs.test%20https%3a%2f%2fwww.googleapis.com%2fauth%2fdrive%20https%3a%2f%2fwww.googleapis.com%2fauth%2fdrive.photos.readonly%20https%3a%2f%2fwww.googleapis.com%2fauth%2fpeopleapi.readonly\n",
            "\n",
            "Enter your authorization code:\n",
            "··········\n",
            "Mounted at /content/gdrive\n"
          ],
          "name": "stdout"
        }
      ]
    },
    {
      "cell_type": "code",
      "metadata": {
        "id": "hr2qnwQpSrz3",
        "colab_type": "code",
        "colab": {}
      },
      "source": [
        "import pandas as pd"
      ],
      "execution_count": 0,
      "outputs": []
    },
    {
      "cell_type": "code",
      "metadata": {
        "id": "m83gSBbUPfyJ",
        "colab_type": "code",
        "colab": {}
      },
      "source": [
        "df = pd.read_excel(\"gdrive/My Drive/Colab Notebooks/headline.xlsx\",encoding='utf-8')"
      ],
      "execution_count": 0,
      "outputs": []
    },
    {
      "cell_type": "code",
      "metadata": {
        "id": "Enn3co7FPy_r",
        "colab_type": "code",
        "outputId": "3ddb1fd3-019b-41c4-a190-2e4b106b5e50",
        "colab": {
          "base_uri": "https://localhost:8080/",
          "height": 194
        }
      },
      "source": [
        "df.head()"
      ],
      "execution_count": 0,
      "outputs": [
        {
          "output_type": "execute_result",
          "data": {
            "text/html": [
              "<div>\n",
              "<style scoped>\n",
              "    .dataframe tbody tr th:only-of-type {\n",
              "        vertical-align: middle;\n",
              "    }\n",
              "\n",
              "    .dataframe tbody tr th {\n",
              "        vertical-align: top;\n",
              "    }\n",
              "\n",
              "    .dataframe thead th {\n",
              "        text-align: right;\n",
              "    }\n",
              "</style>\n",
              "<table border=\"1\" class=\"dataframe\">\n",
              "  <thead>\n",
              "    <tr style=\"text-align: right;\">\n",
              "      <th></th>\n",
              "      <th>NewsType</th>\n",
              "      <th>Headline</th>\n",
              "    </tr>\n",
              "  </thead>\n",
              "  <tbody>\n",
              "    <tr>\n",
              "      <th>0</th>\n",
              "      <td>অর্থনীতি</td>\n",
              "      <td>‘২০ রোজার মধ্যে পাটকল শ্রমিকদের মজুরি দিন’</td>\n",
              "    </tr>\n",
              "    <tr>\n",
              "      <th>1</th>\n",
              "      <td>খেলাধুলা</td>\n",
              "      <td>‘২০০’ ডাকছে, তামিম রাঙাতে পারবেন তো?</td>\n",
              "    </tr>\n",
              "    <tr>\n",
              "      <th>2</th>\n",
              "      <td>মতামত</td>\n",
              "      <td>‘২০টি মডেল ভবন তৈরি করে দেখান’</td>\n",
              "    </tr>\n",
              "    <tr>\n",
              "      <th>3</th>\n",
              "      <td>বাংলাদেশ</td>\n",
              "      <td>‘৬ মাসে ২০৮৩ নারী ও শিশু নির্যাতনের শিকার’</td>\n",
              "    </tr>\n",
              "    <tr>\n",
              "      <th>4</th>\n",
              "      <td>খেলাধুলা</td>\n",
              "      <td>‘৯০ মাইল বেগে বল করলেই গ্রেট হওয়া যায় না’</td>\n",
              "    </tr>\n",
              "  </tbody>\n",
              "</table>\n",
              "</div>"
            ],
            "text/plain": [
              "    NewsType                                    Headline\n",
              "0  অর্থনীতি   ‘২০ রোজার মধ্যে পাটকল শ্রমিকদের মজুরি দিন’\n",
              "1  খেলাধুলা         ‘২০০’ ডাকছে, তামিম রাঙাতে পারবেন তো?\n",
              "2     মতামত               ‘২০টি মডেল ভবন তৈরি করে দেখান’\n",
              "3  বাংলাদেশ   ‘৬ মাসে ২০৮৩ নারী ও শিশু নির্যাতনের শিকার’\n",
              "4  খেলাধুলা    ‘৯০ মাইল বেগে বল করলেই গ্রেট হওয়া যায় না’"
            ]
          },
          "metadata": {
            "tags": []
          },
          "execution_count": 4
        }
      ]
    },
    {
      "cell_type": "code",
      "metadata": {
        "id": "3iS5uXJvQC8k",
        "colab_type": "code",
        "outputId": "17d6c38c-038c-4cec-8a78-8445729c315c",
        "colab": {
          "base_uri": "https://localhost:8080/",
          "height": 284
        }
      },
      "source": [
        "for i in range(5):\n",
        "    print(\"News:\",i+1)\n",
        "    print(\"Text:\",df.Headline[i])\n",
        "    print(\"NewsType:\",df.NewsType[i])"
      ],
      "execution_count": 0,
      "outputs": [
        {
          "output_type": "stream",
          "text": [
            "News: 1\n",
            "Text: ‘২০ রোজার মধ্যে পাটকল শ্রমিকদের মজুরি দিন’\n",
            "NewsType: অর্থনীতি \n",
            "News: 2\n",
            "Text: ‘২০০’ ডাকছে, তামিম রাঙাতে পারবেন তো?\n",
            "NewsType: খেলাধুলা \n",
            "News: 3\n",
            "Text: ‘২০টি মডেল ভবন তৈরি করে দেখান’\n",
            "NewsType: মতামত \n",
            "News: 4\n",
            "Text: ‘৬ মাসে ২০৮৩ নারী ও শিশু নির্যাতনের শিকার’\n",
            "NewsType: বাংলাদেশ \n",
            "News: 5\n",
            "Text: ‘৯০ মাইল বেগে বল করলেই গ্রেট হওয়া যায় না’\n",
            "NewsType: খেলাধুলা \n"
          ],
          "name": "stdout"
        }
      ]
    },
    {
      "cell_type": "code",
      "metadata": {
        "id": "8VfA96U8QJkm",
        "colab_type": "code",
        "colab": {}
      },
      "source": [
        "contractions = { \n",
        "\"বি.দ্র \": \"বিশেষ দ্রষ্টব্য\",\n",
        "\"ড.\": \"ডক্টর\",\n",
        "\"ডা.\": \"ডাক্তার\",\n",
        "\"ইঞ্জি:\": \"ইঞ্জিনিয়ার\",\n",
        "\"রেজি:\": \"রেজিস্ট্রেশন\",\n",
        "\"মি.\": \"মিস্টার\",\n",
        "\"মু.\": \"মুহাম্মদ\",\n",
        "\"মো.\": \"মোহাম্মদ\",\n",
        "}"
      ],
      "execution_count": 0,
      "outputs": []
    },
    {
      "cell_type": "code",
      "metadata": {
        "id": "LzADMTEWQOrV",
        "colab_type": "code",
        "colab": {}
      },
      "source": [
        "import string\n",
        "import re\n",
        "def clean_text(text,remove_stopwords = False):\n",
        "    if True:\n",
        "        text = text.split()\n",
        "        new_text = []\n",
        "        for word in text:\n",
        "            if word in contractions:\n",
        "                new_text.append(contractions[word])\n",
        "            else:\n",
        "                new_text.append(word)\n",
        "        text = \" \".join(new_text)\n",
        "    # Format words and remove unwanted characters\n",
        "    whitespace = re.compile(u\"[\\s\\u0020\\u00a0\\u1680\\u180e\\u202f\\u205f\\u3000\\u2000-\\u200a]+\", re.UNICODE)\n",
        "    bangla_digits = u\"[\\u09E6\\u09E7\\u09E8\\u09E9\\u09EA\\u09EB\\u09EC\\u09ED\\u09EE\\u09EF]+\"\n",
        "    english_chars = u\"[a-zA-Z0-9]\"\n",
        "    punc = u\"[(),$%^&*+={}\\[\\]:\\\"|\\'\\~`<>/,¦!?½£¶¼©⅐⅑⅒⅓⅔⅕⅖⅗⅘⅙⅚⅛⅜⅝⅞⅟↉¤¿º;-]+\"\n",
        "    bangla_fullstop = u\"\\u0964\"     #bangla fullstop(dari)\n",
        "    \n",
        "    punctSeq   = u\"['\\\"“”‘’]+|[.?!,…]+|[:;]+\"\n",
        "    \n",
        "    text = re.sub(bangla_digits, \" \", text)\n",
        "    text = re.sub(punc, \" \", text)\n",
        "    text = re.sub(english_chars, \" \", text)\n",
        "    text = re.sub(bangla_fullstop, \" \", text)\n",
        "    text = re.sub(punctSeq, \" \", text)\n",
        "    text = whitespace.sub(\" \", text).strip()\n",
        "    \n",
        "    text = re.sub(r'https?:\\/\\/.*[\\r\\n]*', '', text, flags=re.MULTILINE)\n",
        "    text = re.sub(r'\\<a href', ' ', text)\n",
        "    text = re.sub(r'&amp;‘:‘ ’', '', text) \n",
        "    text = re.sub(r'[_\"\\-;%()|+&=*%.,!?:#$@\\[\\]/]। ,', ' ', text)\n",
        "    text = re.sub(r'<br />', ' ', text)\n",
        "    text = re.sub(r'\\'', ' ', text)\n",
        "    text = re.sub(r\"[\\@$#%~+-\\.\\'।\\\"]\",\" \",text)\n",
        "    text = re.sub(r\"(?m)^\\s+\", \"\", text)\n",
        "    text = re.sub(\"[()]\",\"\",text)\n",
        "    text = re.sub(\"[‘’]\",\"\",text)\n",
        "    text = re.sub(\"[!]\",\"\",text)\n",
        "    text = re.sub(\"[/]\",\"\",text)\n",
        "    text = re.sub(\"[:]\",\"\",text)\n",
        "    text= re.sub('\\ |\\?|\\.|\\!|\\/|\\;|\\:', ' ',text)\n",
        "    text= text.strip(\"/\")\n",
        "    \n",
        "    if remove_stopwords:\n",
        "        k = []\n",
        "        with open('gdrive/My Drive/Colab Notebooks/Banglastopword.txt', 'r',encoding=\"utf-8\") as f:\n",
        "            for word in f:\n",
        "                word = word.split()\n",
        "                k.append(word[0])\n",
        "            text = [t for t in text if t not in k]\n",
        "            text = \"\".join(text)\n",
        "            \n",
        "    return text"
      ],
      "execution_count": 0,
      "outputs": []
    },
    {
      "cell_type": "code",
      "metadata": {
        "id": "0XMOMHIEQYX5",
        "colab_type": "code",
        "colab": {}
      },
      "source": [
        "clean_type = []\n",
        "for newstype in df.NewsType:\n",
        "    clean_type.append(clean_text(newstype,remove_stopwords=True))\n",
        "\n",
        "clean_texts = []\n",
        "for text in df.Headline:\n",
        "    clean_texts.append(clean_text(text))"
      ],
      "execution_count": 0,
      "outputs": []
    },
    {
      "cell_type": "code",
      "metadata": {
        "id": "orgDXXBiQmXQ",
        "colab_type": "code",
        "outputId": "ba09fc3d-4cb4-40d1-ebac-7d9ba9ea95bd",
        "colab": {
          "base_uri": "https://localhost:8080/",
          "height": 82
        }
      },
      "source": [
        "import itertools\n",
        "import os\n",
        "import numpy as np # linear algebra\n",
        "%matplotlib inline\n",
        "import matplotlib.pyplot as plt\n",
        "import numpy as np\n",
        "import pandas as pd\n",
        "import tensorflow as tf\n",
        "\n",
        "from sklearn.preprocessing import LabelBinarizer, LabelEncoder\n",
        "from sklearn.metrics import confusion_matrix\n",
        "\n",
        "from tensorflow import keras\n",
        "import keras.utils as ku\n",
        "from keras.callbacks import EarlyStopping\n",
        "from keras.utils.vis_utils import plot_model\n",
        "from keras.layers import Dropout\n",
        "from keras import optimizers\n",
        "from tensorflow import set_random_seed\n",
        "from numpy.random import seed\n",
        "set_random_seed(2)\n",
        "seed(1)\n",
        "\n",
        "layers = keras.layers\n",
        "models = keras.models\n"
      ],
      "execution_count": 0,
      "outputs": [
        {
          "output_type": "display_data",
          "data": {
            "text/html": [
              "<p style=\"color: red;\">\n",
              "The default version of TensorFlow in Colab will soon switch to TensorFlow 2.x.<br>\n",
              "We recommend you <a href=\"https://www.tensorflow.org/guide/migrate\" target=\"_blank\">upgrade</a> now \n",
              "or ensure your notebook will continue to use TensorFlow 1.x via the <code>%tensorflow_version 1.x</code> magic:\n",
              "<a href=\"https://colab.research.google.com/notebooks/tensorflow_version.ipynb\" target=\"_blank\">more info</a>.</p>\n"
            ],
            "text/plain": [
              "<IPython.core.display.HTML object>"
            ]
          },
          "metadata": {
            "tags": []
          }
        },
        {
          "output_type": "stream",
          "text": [
            "Using TensorFlow backend.\n"
          ],
          "name": "stderr"
        }
      ]
    },
    {
      "cell_type": "code",
      "metadata": {
        "id": "mnxhunoqWsb9",
        "colab_type": "code",
        "outputId": "d94f4b00-af7d-4029-9e70-55de277820bf",
        "colab": {
          "base_uri": "https://localhost:8080/",
          "height": 212
        }
      },
      "source": [
        "\n",
        "df['NewsType'].value_counts()"
      ],
      "execution_count": 0,
      "outputs": [
        {
          "output_type": "execute_result",
          "data": {
            "text/plain": [
              "আন্তর্জাতিক            1609\n",
              "বাংলাদেশ               1003\n",
              "বিজ্ঞান ও প্রযুক্তি     996\n",
              "খেলাধুলা                972\n",
              "বিনোদন                  807\n",
              "মতামত                   798\n",
              "শিক্ষা                  794\n",
              "অর্থনীতি                782\n",
              "জীবন যাপন               750\n",
              "চাকুরি                   91\n",
              "Name: NewsType, dtype: int64"
            ]
          },
          "metadata": {
            "tags": []
          },
          "execution_count": 10
        }
      ]
    },
    {
      "cell_type": "code",
      "metadata": {
        "id": "Zw9NX43IWxnm",
        "colab_type": "code",
        "outputId": "31edecce-fcfc-4b0b-ec31-9f02935e9339",
        "colab": {
          "base_uri": "https://localhost:8080/",
          "height": 52
        }
      },
      "source": [
        "train_size = int(len(df) * .80)\n",
        "print (\"Train size: %d\" % train_size)\n",
        "print (\"Test size: %d\" % (len(df) - train_size))"
      ],
      "execution_count": 0,
      "outputs": [
        {
          "output_type": "stream",
          "text": [
            "Train size: 6881\n",
            "Test size: 1721\n"
          ],
          "name": "stdout"
        }
      ]
    },
    {
      "cell_type": "code",
      "metadata": {
        "id": "XAJ_ljtgW7hW",
        "colab_type": "code",
        "colab": {}
      },
      "source": [
        "def train_test_split(df, train_size):\n",
        "    train = df[:train_size]\n",
        "    test = df[train_size:]\n",
        "    return train, test"
      ],
      "execution_count": 0,
      "outputs": []
    },
    {
      "cell_type": "code",
      "metadata": {
        "id": "85Yk0G7zW_bD",
        "colab_type": "code",
        "colab": {}
      },
      "source": [
        "train_cat, test_cat = train_test_split(df['NewsType'], train_size,)\n",
        "train_text, test_text = train_test_split(df['Headline'], train_size,)"
      ],
      "execution_count": 0,
      "outputs": []
    },
    {
      "cell_type": "code",
      "metadata": {
        "id": "w019CkZbXFKe",
        "colab_type": "code",
        "colab": {}
      },
      "source": [
        "max_words = 5000\n",
        "tokenize = keras.preprocessing.text.Tokenizer(num_words=max_words, \n",
        "                                              char_level=False)"
      ],
      "execution_count": 0,
      "outputs": []
    },
    {
      "cell_type": "code",
      "metadata": {
        "id": "ajNLIgyWXJWX",
        "colab_type": "code",
        "colab": {}
      },
      "source": [
        "tokenize.fit_on_texts(train_text)\n",
        "x_train = tokenize.texts_to_matrix(train_text)\n",
        "x_test = tokenize.texts_to_matrix(test_text)"
      ],
      "execution_count": 0,
      "outputs": []
    },
    {
      "cell_type": "code",
      "metadata": {
        "id": "RZZiU11-XMk3",
        "colab_type": "code",
        "colab": {}
      },
      "source": [
        "encoder = LabelEncoder()\n",
        "encoder.fit(train_cat)\n",
        "y_train = encoder.transform(train_cat)\n",
        "y_test = encoder.transform(test_cat)"
      ],
      "execution_count": 0,
      "outputs": []
    },
    {
      "cell_type": "code",
      "metadata": {
        "id": "OVfop_WUXQCz",
        "colab_type": "code",
        "colab": {}
      },
      "source": [
        "num_classes = np.max(y_train) + 1\n",
        "y_train = keras.utils.to_categorical(y_train, num_classes)\n",
        "y_test = keras.utils.to_categorical(y_test, num_classes)"
      ],
      "execution_count": 0,
      "outputs": []
    },
    {
      "cell_type": "code",
      "metadata": {
        "id": "6AsgtGwkXTHF",
        "colab_type": "code",
        "outputId": "097ea5d4-e41f-46b0-afc1-51f9fe8835a6",
        "colab": {
          "base_uri": "https://localhost:8080/",
          "height": 88
        }
      },
      "source": [
        "print('x_train shape:', x_train.shape)\n",
        "print('x_test shape:', x_test.shape)\n",
        "print('y_train shape:', y_train.shape)\n",
        "print('y_test shape:', y_test.shape)"
      ],
      "execution_count": 0,
      "outputs": [
        {
          "output_type": "stream",
          "text": [
            "x_train shape: (6881, 5000)\n",
            "x_test shape: (1721, 5000)\n",
            "y_train shape: (6881, 10)\n",
            "y_test shape: (1721, 10)\n"
          ],
          "name": "stdout"
        }
      ]
    },
    {
      "cell_type": "code",
      "metadata": {
        "id": "U303plkTXV3a",
        "colab_type": "code",
        "colab": {}
      },
      "source": [
        "batch_size = 16\n",
        "epochs = 80\n",
        "adam=keras.optimizers.Adam(learning_rate=0.0005, beta_1=0.9, beta_2=0.999, amsgrad=False)"
      ],
      "execution_count": 0,
      "outputs": []
    },
    {
      "cell_type": "code",
      "metadata": {
        "id": "3L-uJTzNXaRW",
        "colab_type": "code",
        "outputId": "a804f07d-8430-4f2e-c73f-43f85ed74ab2",
        "colab": {
          "base_uri": "https://localhost:8080/",
          "height": 372
        }
      },
      "source": [
        "model = models.Sequential()\n",
        "model.add(layers.Dense(16,kernel_initializer='uniform',input_shape=(max_words,)))\n",
        "model.add(layers.Dropout(0.2))\n",
        "model.add(layers.Activation('relu'))\n",
        "model.add(layers.Dense(num_classes))\n",
        "model.add(layers.Dropout(0.2))\n",
        "model.add(layers.Activation('softmax'))\n",
        "model.compile(loss='categorical_crossentropy',optimizer=adam,metrics=['accuracy'])\n",
        "model.summary()"
      ],
      "execution_count": 0,
      "outputs": [
        {
          "output_type": "stream",
          "text": [
            "Model: \"sequential_7\"\n",
            "_________________________________________________________________\n",
            "Layer (type)                 Output Shape              Param #   \n",
            "=================================================================\n",
            "dense_14 (Dense)             (None, 16)                80016     \n",
            "_________________________________________________________________\n",
            "dropout_14 (Dropout)         (None, 16)                0         \n",
            "_________________________________________________________________\n",
            "activation_14 (Activation)   (None, 16)                0         \n",
            "_________________________________________________________________\n",
            "dense_15 (Dense)             (None, 10)                170       \n",
            "_________________________________________________________________\n",
            "dropout_15 (Dropout)         (None, 10)                0         \n",
            "_________________________________________________________________\n",
            "activation_15 (Activation)   (None, 10)                0         \n",
            "=================================================================\n",
            "Total params: 80,186\n",
            "Trainable params: 80,186\n",
            "Non-trainable params: 0\n",
            "_________________________________________________________________\n"
          ],
          "name": "stdout"
        }
      ]
    },
    {
      "cell_type": "code",
      "metadata": {
        "id": "MZqRRIjPXfKr",
        "colab_type": "code",
        "outputId": "9e224e91-b5ec-47f2-a7e7-04094b097ef0",
        "colab": {
          "base_uri": "https://localhost:8080/",
          "height": 1000
        }
      },
      "source": [
        "history = model.fit(x_train, y_train,\n",
        "                    batch_size=batch_size,\n",
        "                    epochs=epochs,\n",
        "                    verbose=2,\n",
        "                    validation_split=0.2)"
      ],
      "execution_count": 0,
      "outputs": [
        {
          "output_type": "stream",
          "text": [
            "Train on 5504 samples, validate on 1377 samples\n",
            "Epoch 1/80\n",
            "5504/5504 - 1s - loss: 2.2699 - acc: 0.1541 - val_loss: 2.1977 - val_acc: 0.2941\n",
            "Epoch 2/80\n",
            "5504/5504 - 1s - loss: 2.1526 - acc: 0.2100 - val_loss: 2.0599 - val_acc: 0.3457\n",
            "Epoch 3/80\n",
            "5504/5504 - 1s - loss: 1.9940 - acc: 0.3272 - val_loss: 1.9271 - val_acc: 0.4430\n",
            "Epoch 4/80\n",
            "5504/5504 - 1s - loss: 1.8173 - acc: 0.4431 - val_loss: 1.7982 - val_acc: 0.5105\n",
            "Epoch 5/80\n",
            "5504/5504 - 1s - loss: 1.6440 - acc: 0.5223 - val_loss: 1.6814 - val_acc: 0.5461\n",
            "Epoch 6/80\n",
            "5504/5504 - 1s - loss: 1.4970 - acc: 0.5625 - val_loss: 1.5902 - val_acc: 0.5599\n",
            "Epoch 7/80\n",
            "5504/5504 - 1s - loss: 1.3782 - acc: 0.5908 - val_loss: 1.5125 - val_acc: 0.5759\n",
            "Epoch 8/80\n",
            "5504/5504 - 1s - loss: 1.2739 - acc: 0.6297 - val_loss: 1.4602 - val_acc: 0.5766\n",
            "Epoch 9/80\n",
            "5504/5504 - 1s - loss: 1.1810 - acc: 0.6504 - val_loss: 1.4098 - val_acc: 0.5824\n",
            "Epoch 10/80\n",
            "5504/5504 - 1s - loss: 1.1049 - acc: 0.6650 - val_loss: 1.3783 - val_acc: 0.5839\n",
            "Epoch 11/80\n",
            "5504/5504 - 1s - loss: 1.0260 - acc: 0.6840 - val_loss: 1.3491 - val_acc: 0.5788\n",
            "Epoch 12/80\n",
            "5504/5504 - 1s - loss: 0.9851 - acc: 0.6899 - val_loss: 1.3255 - val_acc: 0.5853\n",
            "Epoch 13/80\n",
            "5504/5504 - 1s - loss: 0.9306 - acc: 0.7059 - val_loss: 1.3080 - val_acc: 0.5817\n",
            "Epoch 14/80\n",
            "5504/5504 - 1s - loss: 0.8831 - acc: 0.7180 - val_loss: 1.2994 - val_acc: 0.5824\n",
            "Epoch 15/80\n",
            "5504/5504 - 1s - loss: 0.8435 - acc: 0.7253 - val_loss: 1.2888 - val_acc: 0.5810\n",
            "Epoch 16/80\n",
            "5504/5504 - 1s - loss: 0.7964 - acc: 0.7420 - val_loss: 1.2858 - val_acc: 0.5868\n",
            "Epoch 17/80\n",
            "5504/5504 - 1s - loss: 0.7990 - acc: 0.7313 - val_loss: 1.2840 - val_acc: 0.5810\n",
            "Epoch 18/80\n",
            "5504/5504 - 1s - loss: 0.7455 - acc: 0.7524 - val_loss: 1.2815 - val_acc: 0.5817\n",
            "Epoch 19/80\n",
            "5504/5504 - 1s - loss: 0.7313 - acc: 0.7545 - val_loss: 1.2857 - val_acc: 0.5817\n",
            "Epoch 20/80\n",
            "5504/5504 - 1s - loss: 0.6924 - acc: 0.7713 - val_loss: 1.2931 - val_acc: 0.5802\n",
            "Epoch 21/80\n",
            "5504/5504 - 1s - loss: 0.6682 - acc: 0.7751 - val_loss: 1.2997 - val_acc: 0.5788\n",
            "Epoch 22/80\n",
            "5504/5504 - 1s - loss: 0.6310 - acc: 0.7852 - val_loss: 1.3083 - val_acc: 0.5810\n",
            "Epoch 23/80\n",
            "5504/5504 - 1s - loss: 0.6446 - acc: 0.7785 - val_loss: 1.3149 - val_acc: 0.5802\n",
            "Epoch 24/80\n",
            "5504/5504 - 1s - loss: 0.6184 - acc: 0.7834 - val_loss: 1.3212 - val_acc: 0.5839\n",
            "Epoch 25/80\n",
            "5504/5504 - 1s - loss: 0.6035 - acc: 0.7943 - val_loss: 1.3348 - val_acc: 0.5810\n",
            "Epoch 26/80\n",
            "5504/5504 - 1s - loss: 0.5897 - acc: 0.7896 - val_loss: 1.3442 - val_acc: 0.5846\n",
            "Epoch 27/80\n",
            "5504/5504 - 1s - loss: 0.5661 - acc: 0.8014 - val_loss: 1.3583 - val_acc: 0.5810\n",
            "Epoch 28/80\n",
            "5504/5504 - 1s - loss: 0.5525 - acc: 0.8016 - val_loss: 1.3720 - val_acc: 0.5839\n",
            "Epoch 29/80\n",
            "5504/5504 - 1s - loss: 0.5456 - acc: 0.8031 - val_loss: 1.3885 - val_acc: 0.5846\n",
            "Epoch 30/80\n",
            "5504/5504 - 1s - loss: 0.5226 - acc: 0.8085 - val_loss: 1.4053 - val_acc: 0.5802\n",
            "Epoch 31/80\n",
            "5504/5504 - 1s - loss: 0.5207 - acc: 0.8052 - val_loss: 1.4134 - val_acc: 0.5824\n",
            "Epoch 32/80\n",
            "5504/5504 - 1s - loss: 0.5117 - acc: 0.8072 - val_loss: 1.4278 - val_acc: 0.5788\n",
            "Epoch 33/80\n",
            "5504/5504 - 1s - loss: 0.4943 - acc: 0.8149 - val_loss: 1.4480 - val_acc: 0.5817\n",
            "Epoch 34/80\n",
            "5504/5504 - 1s - loss: 0.4911 - acc: 0.8178 - val_loss: 1.4603 - val_acc: 0.5802\n",
            "Epoch 35/80\n",
            "5504/5504 - 1s - loss: 0.4827 - acc: 0.8185 - val_loss: 1.4813 - val_acc: 0.5817\n",
            "Epoch 36/80\n",
            "5504/5504 - 1s - loss: 0.4741 - acc: 0.8203 - val_loss: 1.4987 - val_acc: 0.5824\n",
            "Epoch 37/80\n",
            "5504/5504 - 1s - loss: 0.4764 - acc: 0.8160 - val_loss: 1.5149 - val_acc: 0.5810\n",
            "Epoch 38/80\n",
            "5504/5504 - 1s - loss: 0.4489 - acc: 0.8309 - val_loss: 1.5294 - val_acc: 0.5788\n",
            "Epoch 39/80\n",
            "5504/5504 - 1s - loss: 0.4439 - acc: 0.8278 - val_loss: 1.5475 - val_acc: 0.5795\n",
            "Epoch 40/80\n",
            "5504/5504 - 1s - loss: 0.4494 - acc: 0.8256 - val_loss: 1.5671 - val_acc: 0.5737\n",
            "Epoch 41/80\n",
            "5504/5504 - 1s - loss: 0.4453 - acc: 0.8252 - val_loss: 1.5848 - val_acc: 0.5730\n",
            "Epoch 42/80\n",
            "5504/5504 - 1s - loss: 0.4319 - acc: 0.8289 - val_loss: 1.6023 - val_acc: 0.5708\n",
            "Epoch 43/80\n",
            "5504/5504 - 1s - loss: 0.4131 - acc: 0.8418 - val_loss: 1.6279 - val_acc: 0.5686\n",
            "Epoch 44/80\n",
            "5504/5504 - 1s - loss: 0.4369 - acc: 0.8210 - val_loss: 1.6469 - val_acc: 0.5715\n",
            "Epoch 45/80\n",
            "5504/5504 - 1s - loss: 0.4351 - acc: 0.8256 - val_loss: 1.6647 - val_acc: 0.5730\n",
            "Epoch 46/80\n",
            "5504/5504 - 1s - loss: 0.4062 - acc: 0.8361 - val_loss: 1.6870 - val_acc: 0.5744\n",
            "Epoch 47/80\n",
            "5504/5504 - 1s - loss: 0.4017 - acc: 0.8376 - val_loss: 1.7028 - val_acc: 0.5686\n",
            "Epoch 48/80\n",
            "5504/5504 - 1s - loss: 0.4097 - acc: 0.8323 - val_loss: 1.7240 - val_acc: 0.5730\n",
            "Epoch 49/80\n",
            "5504/5504 - 1s - loss: 0.3999 - acc: 0.8430 - val_loss: 1.7353 - val_acc: 0.5701\n",
            "Epoch 50/80\n",
            "5504/5504 - 1s - loss: 0.3962 - acc: 0.8416 - val_loss: 1.7535 - val_acc: 0.5730\n",
            "Epoch 51/80\n",
            "5504/5504 - 1s - loss: 0.3904 - acc: 0.8383 - val_loss: 1.7707 - val_acc: 0.5715\n",
            "Epoch 52/80\n",
            "5504/5504 - 1s - loss: 0.3766 - acc: 0.8410 - val_loss: 1.7924 - val_acc: 0.5737\n",
            "Epoch 53/80\n",
            "5504/5504 - 1s - loss: 0.3757 - acc: 0.8441 - val_loss: 1.8126 - val_acc: 0.5737\n",
            "Epoch 54/80\n",
            "5504/5504 - 1s - loss: 0.3839 - acc: 0.8383 - val_loss: 1.8298 - val_acc: 0.5730\n",
            "Epoch 55/80\n",
            "5504/5504 - 1s - loss: 0.3620 - acc: 0.8499 - val_loss: 1.8486 - val_acc: 0.5715\n",
            "Epoch 56/80\n",
            "5504/5504 - 1s - loss: 0.3740 - acc: 0.8430 - val_loss: 1.8619 - val_acc: 0.5708\n",
            "Epoch 57/80\n",
            "5504/5504 - 1s - loss: 0.3588 - acc: 0.8507 - val_loss: 1.8835 - val_acc: 0.5701\n",
            "Epoch 58/80\n",
            "5504/5504 - 1s - loss: 0.3686 - acc: 0.8467 - val_loss: 1.8985 - val_acc: 0.5723\n",
            "Epoch 59/80\n",
            "5504/5504 - 1s - loss: 0.3690 - acc: 0.8416 - val_loss: 1.9157 - val_acc: 0.5737\n",
            "Epoch 60/80\n",
            "5504/5504 - 1s - loss: 0.3548 - acc: 0.8497 - val_loss: 1.9343 - val_acc: 0.5708\n",
            "Epoch 61/80\n",
            "5504/5504 - 1s - loss: 0.3512 - acc: 0.8474 - val_loss: 1.9517 - val_acc: 0.5730\n",
            "Epoch 62/80\n",
            "5504/5504 - 1s - loss: 0.3534 - acc: 0.8492 - val_loss: 1.9734 - val_acc: 0.5730\n",
            "Epoch 63/80\n",
            "5504/5504 - 1s - loss: 0.3461 - acc: 0.8557 - val_loss: 1.9892 - val_acc: 0.5744\n",
            "Epoch 64/80\n",
            "5504/5504 - 1s - loss: 0.3467 - acc: 0.8561 - val_loss: 2.0019 - val_acc: 0.5723\n",
            "Epoch 65/80\n",
            "5504/5504 - 1s - loss: 0.3354 - acc: 0.8556 - val_loss: 2.0208 - val_acc: 0.5715\n",
            "Epoch 66/80\n",
            "5504/5504 - 1s - loss: 0.3300 - acc: 0.8616 - val_loss: 2.0375 - val_acc: 0.5701\n",
            "Epoch 67/80\n",
            "5504/5504 - 1s - loss: 0.3550 - acc: 0.8496 - val_loss: 2.0481 - val_acc: 0.5686\n",
            "Epoch 68/80\n",
            "5504/5504 - 1s - loss: 0.3399 - acc: 0.8523 - val_loss: 2.0646 - val_acc: 0.5672\n",
            "Epoch 69/80\n",
            "5504/5504 - 1s - loss: 0.3381 - acc: 0.8547 - val_loss: 2.0840 - val_acc: 0.5694\n",
            "Epoch 70/80\n",
            "5504/5504 - 1s - loss: 0.3496 - acc: 0.8483 - val_loss: 2.0982 - val_acc: 0.5737\n",
            "Epoch 71/80\n",
            "5504/5504 - 1s - loss: 0.3358 - acc: 0.8523 - val_loss: 2.1183 - val_acc: 0.5664\n",
            "Epoch 72/80\n",
            "5504/5504 - 1s - loss: 0.3404 - acc: 0.8507 - val_loss: 2.1384 - val_acc: 0.5686\n",
            "Epoch 73/80\n",
            "5504/5504 - 1s - loss: 0.3341 - acc: 0.8537 - val_loss: 2.1535 - val_acc: 0.5686\n",
            "Epoch 74/80\n",
            "5504/5504 - 1s - loss: 0.3400 - acc: 0.8501 - val_loss: 2.1706 - val_acc: 0.5679\n",
            "Epoch 75/80\n",
            "5504/5504 - 1s - loss: 0.3381 - acc: 0.8525 - val_loss: 2.1839 - val_acc: 0.5686\n",
            "Epoch 76/80\n",
            "5504/5504 - 1s - loss: 0.3348 - acc: 0.8516 - val_loss: 2.1968 - val_acc: 0.5694\n",
            "Epoch 77/80\n",
            "5504/5504 - 1s - loss: 0.3316 - acc: 0.8537 - val_loss: 2.2136 - val_acc: 0.5650\n",
            "Epoch 78/80\n",
            "5504/5504 - 1s - loss: 0.3216 - acc: 0.8594 - val_loss: 2.2325 - val_acc: 0.5686\n",
            "Epoch 79/80\n",
            "5504/5504 - 1s - loss: 0.3202 - acc: 0.8608 - val_loss: 2.2572 - val_acc: 0.5643\n",
            "Epoch 80/80\n",
            "5504/5504 - 1s - loss: 0.3099 - acc: 0.8661 - val_loss: 2.2737 - val_acc: 0.5650\n"
          ],
          "name": "stdout"
        }
      ]
    },
    {
      "cell_type": "code",
      "metadata": {
        "id": "hOqrf4mHYYF1",
        "colab_type": "code",
        "outputId": "9c851c86-948f-447f-c9c1-f6dd885c3d2c",
        "colab": {
          "base_uri": "https://localhost:8080/",
          "height": 70
        }
      },
      "source": [
        "score = model.evaluate(x_train, y_train,\n",
        "                       batch_size=batch_size, verbose=2)\n",
        "print('Train loss:', score[0])\n",
        "print('Train accuracy:', score[1])"
      ],
      "execution_count": 0,
      "outputs": [
        {
          "output_type": "stream",
          "text": [
            "6881/6881 - 0s - loss: 0.5132 - acc: 0.9013\n",
            "Train loss: 0.5132059963872972\n",
            "Train accuracy: 0.9013225\n"
          ],
          "name": "stdout"
        }
      ]
    },
    {
      "cell_type": "code",
      "metadata": {
        "id": "vm-RkfZJXib4",
        "colab_type": "code",
        "outputId": "1c077cab-ff14-4f77-a187-f4116af22058",
        "colab": {
          "base_uri": "https://localhost:8080/",
          "height": 70
        }
      },
      "source": [
        "score = model.evaluate(x_test, y_test,\n",
        "                       batch_size=batch_size, verbose=2)\n",
        "print('Test loss:', score[0])\n",
        "print('Test accuracy:', score[1])"
      ],
      "execution_count": 0,
      "outputs": [
        {
          "output_type": "stream",
          "text": [
            "1721/1721 - 0s - loss: 2.5024 - acc: 0.4951\n",
            "Test loss: 2.502389245501512\n",
            "Test accuracy: 0.495061\n"
          ],
          "name": "stdout"
        }
      ]
    },
    {
      "cell_type": "code",
      "metadata": {
        "id": "MPYg7y5BamNB",
        "colab_type": "code",
        "outputId": "495d2336-51d5-4533-8e4d-24154ffe4801",
        "colab": {
          "base_uri": "https://localhost:8080/",
          "height": 336
        }
      },
      "source": [
        "def plot_history(history):\n",
        "    acc = history.history['acc']\n",
        "    val_acc = history.history['val_acc']\n",
        "    loss = history.history['loss']\n",
        "    val_loss = history.history['val_loss']\n",
        "    x = range(1, len(acc) + 1)\n",
        "    \n",
        "    plt.figure(figsize=(12, 5))\n",
        "    plt.subplot(1, 2, 1)\n",
        "    plt.plot(x, acc, 'b', label='Training acc')\n",
        "    plt.plot(x, val_acc, 'r', label='Validation acc')\n",
        "    plt.title('Training and validation accuracy')\n",
        "    plt.legend()\n",
        "    plt.subplot(1, 2, 2)\n",
        "    plt.plot(x, loss, 'b', label='Training loss')\n",
        "    plt.plot(x, val_loss, 'r', label='Validation loss')\n",
        "    plt.title('Training and validation loss')\n",
        "    plt.legend()\n",
        "plot_history(history)"
      ],
      "execution_count": 0,
      "outputs": [
        {
          "output_type": "display_data",
          "data": {
            "image/png": "[encoded data removed]",
            "text/plain": [
              "<Figure size 864x360 with 2 Axes>"
            ]
          },
          "metadata": {
            "tags": []
          }
        }
      ]
    },
    {
      "cell_type": "code",
      "metadata": {
        "id": "OFu03I56YVB8",
        "colab_type": "code",
        "outputId": "fcad8889-8b5a-453b-9659-f86b4544ac4e",
        "colab": {
          "base_uri": "https://localhost:8080/",
          "height": 1000
        }
      },
      "source": [
        "text_labels = encoder.classes_ \n",
        "for i in range(20):\n",
        "    prediction = model.predict(np.array([x_test[i]]))\n",
        "    predicted_label = text_labels[np.argmax(prediction)]\n",
        "    print(test_text.iloc[i][:50], \"...\")\n",
        "    print('Actual NewsType:' + test_cat.iloc[i])\n",
        "    print(\"Predicted NewsType: \" + predicted_label + \"\\n\")  "
      ],
      "execution_count": 0,
      "outputs": [
        {
          "output_type": "stream",
          "text": [
            "যুদ্ধ ব্যবসায়ী এরিক প্রিন্স কেন মিয়ানমারে ...\n",
            "Actual NewsType:মতামত \n",
            "Predicted NewsType: আন্তর্জাতিক \n",
            "\n",
            "যুদ্ধ যুদ্ধ খেলায় ‘হিরো’ ইমরান! ...\n",
            "Actual NewsType:আন্তর্জাতিক \n",
            "Predicted NewsType: আন্তর্জাতিক \n",
            "\n",
            "যুদ্ধবাজদের এখন পোয়াবারো ...\n",
            "Actual NewsType:আন্তর্জাতিক \n",
            "Predicted NewsType: বিনোদন \n",
            "\n",
            "যুদ্ধবিমান ভূপাতিতের দাবি ভারতের ‘যুদ্ধ উন্মাদনা’: ...\n",
            "Actual NewsType:আন্তর্জাতিক \n",
            "Predicted NewsType: আন্তর্জাতিক \n",
            "\n",
            "যুদ্ধবিমানের অপব্যবহার, পাকিস্তানের কাছে জবাব চায়  ...\n",
            "Actual NewsType:আন্তর্জাতিক \n",
            "Predicted NewsType: আন্তর্জাতিক \n",
            "\n",
            "যুদ্ধাপরাধীদের বিচার থমকে যাবে না: মোজাম্মেল হক ...\n",
            "Actual NewsType:বাংলাদেশ \n",
            "Predicted NewsType: বাংলাদেশ \n",
            "\n",
            "যুদ্ধাবস্থার জন্য যুক্তরাষ্ট্রকেই দায়ী করছে ইউরোপ ...\n",
            "Actual NewsType:আন্তর্জাতিক \n",
            "Predicted NewsType: বিনোদন \n",
            "\n",
            "যুদ্ধে জড়াবে যুক্তরাষ্ট্র-চীন? ...\n",
            "Actual NewsType:আন্তর্জাতিক \n",
            "Predicted NewsType: আন্তর্জাতিক \n",
            "\n",
            "যুদ্ধের দারুণ এক খেলা ...\n",
            "Actual NewsType:বিজ্ঞান ও প্রযুক্তি\n",
            "Predicted NewsType: মতামত \n",
            "\n",
            "যুব বাজেট: যুবদের উন্নয়ন, প্রত্যাশা ও করণীয় ...\n",
            "Actual NewsType:মতামত \n",
            "Predicted NewsType: মতামত \n",
            "\n",
            "যুবদের ব্যবসা উদ্যোগ বাড়াতে ১০০ কোটি টাকা ...\n",
            "Actual NewsType:অর্থনীতি \n",
            "Predicted NewsType: অর্থনীতি \n",
            "\n",
            "যুবরাজ যখন সৌম্যর প্রেরণা ...\n",
            "Actual NewsType:খেলাধুলা \n",
            "Predicted NewsType: জীবন যাপন\n",
            "\n",
            "যুবরাজের সঙ্গে ‘নোংরা রাজনীতি’ করেছেন ধোনি! ...\n",
            "Actual NewsType:খেলাধুলা \n",
            "Predicted NewsType: খেলাধুলা \n",
            "\n",
            "যে ‘শীর্ষস্থান’ থেকে আজ নেমে আসতেই হবে বাংলাদেশকে ...\n",
            "Actual NewsType:খেলাধুলা \n",
            "Predicted NewsType: খেলাধুলা \n",
            "\n",
            "যে ১০ নিয়মে মনের জোর বাড়াবেন ...\n",
            "Actual NewsType:জীবন যাপন\n",
            "Predicted NewsType: জীবন যাপন\n",
            "\n",
            "যে ১৫ অ্যাপ বোকা বানাচ্ছে ...\n",
            "Actual NewsType:বিজ্ঞান ও প্রযুক্তি\n",
            "Predicted NewsType: আন্তর্জাতিক \n",
            "\n",
            "যে ৫ কারণে কোপার শিরোপা জিততে পারে ব্রাজিল ...\n",
            "Actual NewsType:খেলাধুলা \n",
            "Predicted NewsType: খেলাধুলা \n",
            "\n",
            "যে ৫ পরিবর্তন আসছে ফেসবুক মেসেঞ্জারে ...\n",
            "Actual NewsType:বিজ্ঞান ও প্রযুক্তি\n",
            "Predicted NewsType: বিজ্ঞান ও প্রযুক্তি\n",
            "\n",
            "যে ৫ সেমিফাইনাল আজও শিহরণ জাগায় ...\n",
            "Actual NewsType:খেলাধুলা \n",
            "Predicted NewsType: মতামত \n",
            "\n",
            "যে আম খাওয়ার সময় হয়েছে ...\n",
            "Actual NewsType:জীবন যাপন\n",
            "Predicted NewsType: জীবন যাপন\n",
            "\n"
          ],
          "name": "stdout"
        }
      ]
    },
    {
      "cell_type": "code",
      "metadata": {
        "id": "wid-xsDsYh3R",
        "colab_type": "code",
        "colab": {}
      },
      "source": [
        "y_softmax = model.predict(x_test)\n",
        "\n",
        "y_test_1d = []\n",
        "y_pred_1d = []\n",
        "\n",
        "for i in range(len(y_test)):\n",
        "    probs = y_test[i]\n",
        "    index_arr = np.nonzero(probs)\n",
        "    one_hot_index = index_arr[0].item(0)\n",
        "    y_test_1d.append(one_hot_index)\n",
        "\n",
        "for i in range(0, len(y_softmax)):\n",
        "    probs = y_softmax[i]\n",
        "    predicted_index = np.argmax(probs)\n",
        "    y_pred_1d.append(predicted_index)"
      ],
      "execution_count": 0,
      "outputs": []
    },
    {
      "cell_type": "code",
      "metadata": {
        "id": "Xbhd3nWaY9R1",
        "colab_type": "code",
        "colab": {}
      },
      "source": [
        "import matplotlib.font_manager as fm\n",
        "prop = fm.FontProperties(fname='gdrive/My Drive/Colab Notebooks/kalpurush.ttf')\n",
        "fontproperties=prop\n",
        "def plot_confusion_matrix(cm, classes,\n",
        "                          title='Confusion matrix',\n",
        "                          cmap=plt.cm.Blues):\n",
        "\n",
        "    cm = cm.astype('float') / cm.sum(axis=1)[:, np.newaxis]\n",
        "\n",
        "    plt.imshow(cm, interpolation='nearest', cmap=cmap)\n",
        "    plt.title(title, fontsize=20)\n",
        "    plt.colorbar()\n",
        "    tick_marks = np.arange(len(classes))\n",
        "    plt.xticks(tick_marks, classes, rotation=90, fontsize=25, fontproperties=prop)\n",
        "    plt.yticks(tick_marks, classes, fontsize=25, fontproperties=prop)\n",
        "\n",
        "    fmt = '.2f'\n",
        "    thresh = cm.max() / 2.\n",
        "    for i, j in itertools.product(range(cm.shape[0]), range(cm.shape[0])):\n",
        "        plt.text(j, i, format(cm[i, j], fmt),\n",
        "                 horizontalalignment=\"center\",\n",
        "                 color=\"white\" if cm[i, j] > thresh else \"black\")\n",
        "    \n",
        "    plt.ylabel('True label', fontsize=20)\n",
        "    plt.xlabel('Predicted label', fontsize=20)"
      ],
      "execution_count": 0,
      "outputs": []
    },
    {
      "cell_type": "code",
      "metadata": {
        "id": "4KokmlNDZCt1",
        "colab_type": "code",
        "outputId": "cb8e5801-a3ac-406e-a963-4e570284d836",
        "colab": {
          "base_uri": "https://localhost:8080/",
          "height": 879
        }
      },
      "source": [
        "cnf_matrix = confusion_matrix(y_test_1d, y_pred_1d)\n",
        "plt.figure(figsize=(15,15))\n",
        "plot_confusion_matrix(cnf_matrix, classes=text_labels, title=\"Confusion matrix\")\n",
        "plt.show()"
      ],
      "execution_count": 0,
      "outputs": [
        {
          "output_type": "display_data",
          "data": {
            "image/png": "[encoded data removed]",
            "text/plain": [
              "<Figure size 1080x1080 with 2 Axes>"
            ]
          },
          "metadata": {
            "tags": []
          }
        }
      ]
    },
    {
      "cell_type": "code",
      "metadata": {
        "id": "utiaVmZ8LEbJ",
        "colab_type": "code",
        "colab": {}
      },
      "source": [
        ""
      ],
      "execution_count": 0,
      "outputs": []
    }
  ]
}